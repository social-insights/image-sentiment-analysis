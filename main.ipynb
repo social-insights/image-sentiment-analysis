{
 "cells": [
  {
   "cell_type": "code",
   "execution_count": 1,
   "metadata": {},
   "outputs": [],
   "source": [
    "import keras\n",
    "import requests\n",
    "from tqdm import tqdm\n",
    "\n",
    "api_key = u'86a71105d612be1bad425258acc1c001'\n",
    "api_secret = u'ec46bf1d93373fad'\n",
    "\n",
    "RETRIEVE_IMAGES = False\n",
    "\n",
    "IMAGE_SIZE = 128\n",
    "NUM_IMAGES_PER_CLASS = 150"
   ]
  },
  {
   "cell_type": "code",
   "execution_count": 2,
   "metadata": {},
   "outputs": [],
   "source": [
    "classes = [\"happy\", \"sad\", \"angry\", \"surprised\", \"disgusted\", \"fearful\", \"neutral\"]"
   ]
  },
  {
   "cell_type": "code",
   "execution_count": 3,
   "metadata": {},
   "outputs": [],
   "source": [
    "if RETRIEVE_IMAGES:\n",
    "    import flickrapi\n",
    "    import os\n",
    "    import requests\n",
    "    flickr = flickrapi.FlickrAPI(api_key, api_secret, format='parsed-json')\n",
    "    print(\"Retrieving images from Flickr...\")\n",
    "    for c in classes:\n",
    "        print(\"Retrieving images for class {}...\".format(c))\n",
    "        \n",
    "        try:\n",
    "            os.mkdir('./images/{}'.format(c))\n",
    "        except:\n",
    "            pass\n",
    "        \n",
    "        photos = flickr.photos.search(text=c, per_page=NUM_IMAGES_PER_CLASS, sort=\"relevance\")\n",
    "        # urls = []\n",
    "        with (open('./images/{}/{}.txt'.format(c, c), 'w')) as f:\n",
    "            for i, photo in tqdm(enumerate(photos['photos']['photo'])):\n",
    "                url = 'https://farm{}.staticflickr.com/{}/{}_{}.jpg'.format(photo['farm'], photo['server'], photo['id'], photo['secret'])\n",
    "                f.write(photo['id'] + '\\n')\n",
    "                image = requests.get(url)\n",
    "                with open('./images/{}/{}.jpg'.format(c, photo['id']), 'wb') as file:\n",
    "                    file.write(image.content)"
   ]
  },
  {
   "cell_type": "code",
   "execution_count": 4,
   "metadata": {},
   "outputs": [],
   "source": [
    "import numpy as np\n",
    "from PIL import Image\n",
    "import requests\n",
    "from io import BytesIO\n",
    "from sklearn.model_selection import train_test_split"
   ]
  },
  {
   "cell_type": "code",
   "execution_count": 5,
   "metadata": {},
   "outputs": [
    {
     "name": "stderr",
     "output_type": "stream",
     "text": [
      "0it [00:00, ?it/s]"
     ]
    },
    {
     "name": "stderr",
     "output_type": "stream",
     "text": [
      "299it [00:04, 72.78it/s]\n",
      "300it [00:03, 80.07it/s]\n",
      "211it [00:02, 73.39it/s]\n"
     ]
    },
    {
     "ename": "ValueError",
     "evalue": "could not broadcast input array from shape (128,128,4) into shape (128,128,3)",
     "output_type": "error",
     "traceback": [
      "\u001b[1;31m---------------------------------------------------------------------------\u001b[0m",
      "\u001b[1;31mValueError\u001b[0m                                Traceback (most recent call last)",
      "\u001b[1;32mc:\\Users\\djlynn\\Desktop\\image sentiment analysis\\main.ipynb Cell 5\u001b[0m line \u001b[0;36m1\n\u001b[0;32m     <a href='vscode-notebook-cell:/c%3A/Users/djlynn/Desktop/image%20sentiment%20analysis/main.ipynb#W4sZmlsZQ%3D%3D?line=10'>11</a>\u001b[0m     img \u001b[39m=\u001b[39m np\u001b[39m.\u001b[39mstack((img,) \u001b[39m*\u001b[39m \u001b[39m3\u001b[39m, axis\u001b[39m=\u001b[39m\u001b[39m-\u001b[39m\u001b[39m1\u001b[39m)\n\u001b[0;32m     <a href='vscode-notebook-cell:/c%3A/Users/djlynn/Desktop/image%20sentiment%20analysis/main.ipynb#W4sZmlsZQ%3D%3D?line=11'>12</a>\u001b[0m img \u001b[39m=\u001b[39m np\u001b[39m.\u001b[39masarray(img)\n\u001b[1;32m---> <a href='vscode-notebook-cell:/c%3A/Users/djlynn/Desktop/image%20sentiment%20analysis/main.ipynb#W4sZmlsZQ%3D%3D?line=12'>13</a>\u001b[0m X[iteration] \u001b[39m=\u001b[39m img\n\u001b[0;32m     <a href='vscode-notebook-cell:/c%3A/Users/djlynn/Desktop/image%20sentiment%20analysis/main.ipynb#W4sZmlsZQ%3D%3D?line=13'>14</a>\u001b[0m y[iteration] \u001b[39m=\u001b[39m class_idx\n\u001b[0;32m     <a href='vscode-notebook-cell:/c%3A/Users/djlynn/Desktop/image%20sentiment%20analysis/main.ipynb#W4sZmlsZQ%3D%3D?line=14'>15</a>\u001b[0m iteration \u001b[39m+\u001b[39m\u001b[39m=\u001b[39m \u001b[39m1\u001b[39m\n",
      "\u001b[1;31mValueError\u001b[0m: could not broadcast input array from shape (128,128,4) into shape (128,128,3)"
     ]
    }
   ],
   "source": [
    "X = np.zeros((NUM_IMAGES_PER_CLASS * len(classes), IMAGE_SIZE, IMAGE_SIZE, 3))\n",
    "y = np.zeros((NUM_IMAGES_PER_CLASS * len(classes), 1))\n",
    "\n",
    "iteration = 0\n",
    "for class_idx, c in enumerate(classes):\n",
    "    with open('./images/{}/{}.txt'.format(c, c), 'r') as f:\n",
    "        for i, line in tqdm(enumerate(f)):\n",
    "            img = Image.open('./images/{}/{}.jpg'.format(c, line.strip()))\n",
    "            img = img.resize((IMAGE_SIZE, IMAGE_SIZE))\n",
    "            if img.mode == 'L':\n",
    "                img = np.stack((img,) * 3, axis=-1)\n",
    "            img = np.asarray(img)\n",
    "            X[iteration] = img\n",
    "            y[iteration] = class_idx\n",
    "            iteration += 1"
   ]
  },
  {
   "cell_type": "code",
   "execution_count": null,
   "metadata": {},
   "outputs": [
    {
     "name": "stdout",
     "output_type": "stream",
     "text": [
      "[name: \"/device:CPU:0\"\n",
      "device_type: \"CPU\"\n",
      "memory_limit: 268435456\n",
      "locality {\n",
      "}\n",
      "incarnation: 2866822732795081872\n",
      "xla_global_id: -1\n",
      "]\n"
     ]
    }
   ],
   "source": [
    "import os\n",
    "os.environ['KERAS_BACKEND'] = 'tensorflow-gpu'\n",
    "\n",
    "from tensorflow.python.client import device_lib\n",
    "print(device_lib.list_local_devices())"
   ]
  },
  {
   "cell_type": "code",
   "execution_count": null,
   "metadata": {},
   "outputs": [],
   "source": [
    "model = keras.models.Sequential([\n",
    "    keras.layers.Conv2D(32, (3, 3), activation='relu', input_shape=(IMAGE_SIZE, IMAGE_SIZE, 3)),\n",
    "    keras.layers.MaxPooling2D((2, 2)),\n",
    "    keras.layers.Conv2D(IMAGE_SIZE, (3, 3), activation='relu'),\n",
    "    keras.layers.MaxPooling2D((2, 2)),\n",
    "    keras.layers.Conv2D(IMAGE_SIZE, (3, 3), activation='relu'),\n",
    "    keras.layers.Flatten(),\n",
    "    keras.layers.Dense(IMAGE_SIZE, activation='relu'),\n",
    "    keras.layers.Dense(7, activation='softmax')\n",
    "])\n",
    "\n",
    "model.compile(optimizer='adam',\n",
    "                loss='sparse_categorical_crossentropy',\n",
    "                metrics=['accuracy'])"
   ]
  },
  {
   "cell_type": "code",
   "execution_count": null,
   "metadata": {},
   "outputs": [],
   "source": [
    "model.summary()"
   ]
  },
  {
   "cell_type": "code",
   "execution_count": null,
   "metadata": {},
   "outputs": [
    {
     "name": "stdout",
     "output_type": "stream",
     "text": [
      "23/23 [==============================] - 180s 8s/step - loss: 922.5656 - accuracy: 0.1605\n",
      "10/10 [==============================] - 13s 1s/step - loss: 2.1703 - accuracy: 0.2286\n"
     ]
    }
   ],
   "source": [
    "X_train, X_test, y_train, y_test = train_test_split(X, y, test_size=0.3)\n",
    "\n",
    "# train the model\n",
    "model.fit(X_train, y_train, epochs=1)\n",
    "score = model.evaluate(X_test, y_test)\n",
    "# save the model\n",
    "model.save('model.keras')"
   ]
  },
  {
   "cell_type": "code",
   "execution_count": null,
   "metadata": {},
   "outputs": [
    {
     "name": "stdout",
     "output_type": "stream",
     "text": [
      "10/10 [==============================] - 11s 1s/step\n",
      "[1 3 4 3 1 3 3 3 3 4 0 0 3 3 4 3 3 4 0 0 0 0 3 1 4 0 4 4 4 4 3 1 3 4 3 3 3\n",
      " 1 4 1 3 4 4 4 4 4 0 3 0 6 4 4 4 4 3 3 4 4 4 3 3 0 3 0 3 1 0 4 3 4 4 3 3 4\n",
      " 4 4 3 4 4 4 4 4 0 4 3 0 1 0 4 1 4 3 1 1 4 3 1 3 3 1 4 3 4 4 3 0 0 0 0 4 0\n",
      " 0 3 0 0 1 0 3 5 4 3 4 4 3 3 4 4 0 0 3 3 3 0 4 3 3 4 3 3 0 4 0 0 4 1 3 0 0\n",
      " 3 1 4 4 0 4 0 4 3 4 3 3 1 4 4 3 5 0 0 3 1 0 4 4 3 3 3 3 1 3 0 1 0 3 3 4 3\n",
      " 4 3 4 3 3 4 3 4 4 4 1 0 3 3 3 4 0 3 0 4 0 3 0 4 0 0 4 4 0 3 3 3 4 0 4 0 0\n",
      " 4 0 4 1 0 4 3 1 0 4 1 4 1 3 4 3 4 3 3 3 0 0 3 0 4 3 3 3 4 3 4 0 4 0 3 4 3\n",
      " 1 0 3 3 3 0 4 3 5 4 4 3 0 4 1 4 4 4 4 3 4 0 3 0 3 4 0 4 1 0 1 3 4 0 4 4 3\n",
      " 1 0 4 0 1 4 0 0 4 3 3 0 4 3 3 0 4 0 3]\n"
     ]
    }
   ],
   "source": [
    "pred = model.predict(X_test)\n",
    "\n",
    "pred = np.argmax(pred, axis=1)\n",
    "y_test = np.squeeze(y_test)\n",
    "\n",
    "print(pred)"
   ]
  },
  {
   "cell_type": "code",
   "execution_count": null,
   "metadata": {},
   "outputs": [
    {
     "name": "stdout",
     "output_type": "stream",
     "text": [
      "[5. 3. 4. 5. 0. 5. 0. 5. 3. 3. 0. 1. 6. 1. 4. 0. 1. 4. 2. 4. 4. 5. 3. 3.\n",
      " 0. 3. 1. 4. 4. 2. 1. 0. 3. 2. 6. 5. 2. 0. 4. 2. 2. 1. 2. 4. 5. 3. 6. 1.\n",
      " 0. 6. 3. 0. 1. 2. 6. 2. 2. 5. 3. 5. 1. 2. 0. 4. 0. 6. 6. 5. 5. 0. 2. 6.\n",
      " 6. 5. 1. 4. 6. 3. 4. 0. 0. 5. 1. 6. 0. 3. 6. 4. 2. 1. 5. 5. 6. 3. 4. 6.\n",
      " 2. 5. 1. 3. 4. 2. 5. 4. 2. 0. 2. 2. 1. 1. 1. 4. 6. 1. 0. 3. 0. 1. 1. 2.\n",
      " 6. 5. 4. 4. 6. 5. 5. 2. 6. 3. 5. 3. 0. 4. 2. 0. 4. 4. 0. 1. 3. 0. 0. 4.\n",
      " 0. 1. 6. 3. 0. 3. 4. 4. 5. 5. 3. 3. 1. 1. 6. 6. 3. 5. 6. 3. 6. 1. 2. 1.\n",
      " 6. 3. 6. 4. 0. 0. 6. 5. 1. 0. 0. 3. 5. 6. 0. 2. 4. 3. 6. 4. 0. 5. 0. 4.\n",
      " 3. 4. 1. 0. 0. 1. 1. 2. 2. 0. 3. 2. 4. 2. 1. 2. 0. 3. 0. 5. 0. 5. 2. 1.\n",
      " 0. 4. 4. 4. 1. 2. 6. 1. 5. 3. 6. 3. 0. 1. 5. 0. 1. 6. 6. 3. 4. 1. 5. 0.\n",
      " 1. 6. 2. 4. 0. 5. 4. 0. 1. 5. 2. 3. 1. 1. 5. 5. 2. 5. 3. 1. 0. 5. 5. 0.\n",
      " 6. 5. 1. 0. 4. 2. 3. 5. 6. 3. 4. 4. 4. 4. 3. 4. 2. 6. 4. 6. 4. 1. 4. 6.\n",
      " 5. 1. 5. 2. 1. 6. 6. 3. 1. 3. 0. 2. 2. 5. 5. 4. 6. 3. 0. 4. 2. 2. 3. 2.\n",
      " 4. 4. 6.]\n"
     ]
    }
   ],
   "source": [
    "print(y_test)"
   ]
  }
 ],
 "metadata": {
  "kernelspec": {
   "display_name": "Python 3",
   "language": "python",
   "name": "python3"
  },
  "language_info": {
   "codemirror_mode": {
    "name": "ipython",
    "version": 3
   },
   "file_extension": ".py",
   "mimetype": "text/x-python",
   "name": "python",
   "nbconvert_exporter": "python",
   "pygments_lexer": "ipython3",
   "version": "3.11.4"
  }
 },
 "nbformat": 4,
 "nbformat_minor": 2
}
